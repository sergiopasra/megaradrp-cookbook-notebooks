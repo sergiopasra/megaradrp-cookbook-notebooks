{
 "cells": [
  {
   "cell_type": "code",
   "execution_count": null,
   "metadata": {},
   "outputs": [],
   "source": [
    "import os\n",
    "import configparser\n",
    "import pathlib\n",
    "import logging\n",
    "import tarfile\n",
    "\n",
    "import yaml\n",
    "\n",
    "import numina.util.context as ctx\n",
    "from numina.user.helpers import create_datamanager, load_observations\n",
    "from numina.user.baserun import run_reduce\n",
    "from numina.tests.testcache import download_cache\n",
    "from numina.user.logconf import LOGCONF\n",
    "\n",
    "import matplotlib.pyplot as plt"
   ]
  },
  {
   "cell_type": "code",
   "execution_count": null,
   "metadata": {},
   "outputs": [],
   "source": [
    "logging.config.dictConfig(LOGCONF)"
   ]
  },
  {
   "cell_type": "code",
   "execution_count": null,
   "metadata": {},
   "outputs": [],
   "source": [
    "basedir = pathlib.Path().resolve()"
   ]
  },
  {
   "cell_type": "code",
   "execution_count": null,
   "metadata": {},
   "outputs": [],
   "source": [
    "tarball = 'MEGARA-cookbook-M71_MOS_LR-R-v1.tar.gz'\n",
    "url = 'https://guaix.fis.ucm.es/~spr/megara_test/{}'.format(tarball)\n",
    "\n",
    "downloaded = download_cache(url)\n",
    "\n",
    "# Uncompress\n",
    "with tarfile.open(downloaded.name, mode=\"r:gz\") as tar:\n",
    "    tar.extractall()\n",
    "\n",
    "os.remove(downloaded.name)"
   ]
  },
  {
   "cell_type": "code",
   "execution_count": null,
   "metadata": {},
   "outputs": [],
   "source": [
    "persist = False\n",
    "    \n",
    "if persist:\n",
    "    reqfile = basedir / 'control_dump.yaml'\n",
    "else:\n",
    "    reqfile = basedir / 'control_v2.yaml'\n",
    "\n",
    "datadir = basedir / 'data'\n",
    "\n",
    "config = configparser.ConfigParser()\n",
    "config.add_section(\"tool.run\")\n",
    "config.set(\"tool.run\", 'basedir', str(basedir))\n",
    "config.set(\"tool.run\", 'datadir', str(datadir))\n",
    "\n",
    "dm = create_datamanager(config, reqfile)"
   ]
  },
  {
   "cell_type": "code",
   "execution_count": null,
   "metadata": {},
   "outputs": [],
   "source": [
    "obsresults = [\"0_bias.yaml\", \"2_M71_modelmap.yaml\",\n",
    "         \"4_M71_fiberflat.yaml\", \"1_M71_tracemap.yaml\",\n",
    "         \"3_M71_wavecalib.yaml\",\n",
    "         \"8_M71_reduce_MOS.yaml\"]\n",
    "\n",
    "sessions, loaded_obs = load_observations(obsresults, is_session=False)\n",
    "dm.backend.add_obs(loaded_obs)"
   ]
  },
  {
   "cell_type": "code",
   "execution_count": null,
   "metadata": {},
   "outputs": [],
   "source": [
    "obsid = \"0_bias\"\n",
    "task1 = run_reduce(dm, obsid)\n",
    "\n",
    "with open('control_dump.yaml', 'w') as fd:\n",
    "    datam = dm.backend.dump_data()\n",
    "    yaml.dump(datam, fd)"
   ]
  },
  {
   "cell_type": "code",
   "execution_count": null,
   "metadata": {},
   "outputs": [],
   "source": [
    "obsid = \"1_LR-R\"\n",
    "task1 = run_reduce(dm, obsid)\n",
    "\n",
    "with open('control_dump.yaml', 'w') as fd:\n",
    "    datam = dm.backend.dump_data()\n",
    "    yaml.dump(datam, fd)"
   ]
  },
  {
   "cell_type": "code",
   "execution_count": null,
   "metadata": {},
   "outputs": [],
   "source": [
    "obsid = \"3_LR-R\"\n",
    "task3 = run_reduce(dm, obsid, requirements={\"store_pdf_with_refined_fits\": 0})\n",
    "\n",
    "with open('control_dump.yaml', 'w') as fd:\n",
    "    datam = dm.backend.dump_data()\n",
    "    yaml.dump(datam, fd)\n"
   ]
  },
  {
   "cell_type": "code",
   "execution_count": null,
   "metadata": {},
   "outputs": [],
   "source": [
    "obsid = \"4_LR-R\"\n",
    "task4 = run_reduce(dm, obsid)"
   ]
  },
  {
   "cell_type": "code",
   "execution_count": null,
   "metadata": {},
   "outputs": [],
   "source": [
    "obsid = \"8_LR-R_M71\"\n",
    "task5 = run_reduce(dm, obsid)"
   ]
  },
  {
   "cell_type": "code",
   "execution_count": null,
   "metadata": {},
   "outputs": [],
   "source": [
    "with open('control_dump.yaml', 'w') as fd:\n",
    "    datam = dm.backend.dump_data()\n",
    "    yaml.dump(datam, fd)"
   ]
  },
  {
   "cell_type": "code",
   "execution_count": null,
   "metadata": {},
   "outputs": [],
   "source": []
  }
 ],
 "metadata": {
  "kernelspec": {
   "display_name": "Python 3 (ipykernel)",
   "language": "python",
   "name": "python3"
  },
  "language_info": {
   "codemirror_mode": {
    "name": "ipython",
    "version": 3
   },
   "file_extension": ".py",
   "mimetype": "text/x-python",
   "name": "python",
   "nbconvert_exporter": "python",
   "pygments_lexer": "ipython3",
   "version": "3.11.13"
  }
 },
 "nbformat": 4,
 "nbformat_minor": 4
}
