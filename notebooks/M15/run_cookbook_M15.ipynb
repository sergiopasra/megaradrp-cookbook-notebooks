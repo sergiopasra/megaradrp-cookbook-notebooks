{
 "cells": [
  {
   "cell_type": "code",
   "execution_count": null,
   "metadata": {},
   "outputs": [],
   "source": [
    "import os\n",
    "import pathlib\n",
    "import logging\n",
    "import tarfile\n",
    "import configparser\n",
    "\n",
    "import numina.util.context as ctx\n",
    "from numina.user.helpers import create_datamanager, load_observations\n",
    "from numina.user.baserun import run_reduce\n",
    "from numina.user.logconf import LOGCONF\n",
    "from numina.tests.testcache import download_cache\n",
    "\n",
    "\n",
    "import matplotlib.pyplot as plt"
   ]
  },
  {
   "cell_type": "code",
   "execution_count": null,
   "metadata": {},
   "outputs": [],
   "source": [
    "#logging.basicConfig(level=logging.WARN)\n",
    "logging.config.dictConfig(LOGCONF)"
   ]
  },
  {
   "cell_type": "code",
   "execution_count": null,
   "metadata": {},
   "outputs": [],
   "source": [
    "basedir = pathlib.Path().resolve()"
   ]
  },
  {
   "cell_type": "code",
   "execution_count": null,
   "metadata": {},
   "outputs": [],
   "source": [
    "tarball = 'MEGARA-cookbook-M15_LCB_HR-R-v1.tar.gz'\n",
    "url = 'https://guaix.fis.ucm.es/~spr/megara_test/{}'.format(tarball)\n",
    "\n",
    "downloaded = download_cache(url)\n",
    "\n",
    "# Uncompress\n",
    "with tarfile.open(downloaded.name, mode=\"r:gz\") as tar:\n",
    "    tar.extractall()\n",
    "\n",
    "os.remove(downloaded.name)"
   ]
  },
  {
   "cell_type": "code",
   "execution_count": null,
   "metadata": {},
   "outputs": [],
   "source": [
    "persist = False\n",
    "    \n",
    "if persist:\n",
    "    reqfile = basedir / 'control_dump.yaml'\n",
    "else:\n",
    "    reqfile = basedir / 'control_v2.yaml'\n",
    "\n",
    "datadir = basedir / 'data'\n",
    "config = configparser.ConfigParser()\n",
    "config.add_section(\"tool.run\")\n",
    "config.set(\"tool.run\", 'basedir', str(basedir))\n",
    "config.set(\"tool.run\", 'datadir', str(datadir))\n",
    "\n",
    "dm = create_datamanager(config, reqfile)"
   ]
  },
  {
   "cell_type": "code",
   "execution_count": null,
   "metadata": {},
   "outputs": [],
   "source": [
    "obsresults = [\"0_bias.yaml\", \"2_M15_modelmap.yaml\",\n",
    "         \"4_M15_fiberflat.yaml\", \"6_M15_Lcbadquisition.yaml\",\n",
    "         \"8_M15_reduce_LCB.yaml\", \"1_M15_tracemap.yaml\",\n",
    "         \"3_M15_wavecalib.yaml\", \"5_M15_twilight.yaml\",\n",
    "         \"7_M15_Standardstar.yaml\"]\n",
    "\n",
    "sessions, loaded_obs = load_observations(obsresults, is_session=False)\n",
    "dm.backend.add_obs(loaded_obs)"
   ]
  },
  {
   "cell_type": "code",
   "execution_count": null,
   "metadata": {},
   "outputs": [],
   "source": [
    "obsid = \"0_bias\"\n",
    "task0 = run_reduce(dm, obsid)"
   ]
  },
  {
   "cell_type": "code",
   "execution_count": null,
   "metadata": {},
   "outputs": [],
   "source": [
    "task0.result.qc"
   ]
  },
  {
   "cell_type": "code",
   "execution_count": null,
   "metadata": {},
   "outputs": [],
   "source": [
    "master_bias = task0.result.master_bias.open()"
   ]
  },
  {
   "cell_type": "code",
   "execution_count": null,
   "metadata": {},
   "outputs": [],
   "source": [
    "master_bias[0].header"
   ]
  },
  {
   "cell_type": "code",
   "execution_count": null,
   "metadata": {},
   "outputs": [],
   "source": [
    "task0.request_runinfo"
   ]
  },
  {
   "cell_type": "code",
   "execution_count": null,
   "metadata": {},
   "outputs": [],
   "source": [
    "obsid = \"1_HR-R\"\n",
    "task1 = run_reduce(dm, obsid)"
   ]
  },
  {
   "cell_type": "code",
   "execution_count": null,
   "metadata": {},
   "outputs": [],
   "source": [
    "print(task1.result.master_traces)"
   ]
  },
  {
   "cell_type": "code",
   "execution_count": null,
   "metadata": {},
   "outputs": [],
   "source": [
    "task1.result.master_traces"
   ]
  },
  {
   "cell_type": "code",
   "execution_count": null,
   "metadata": {},
   "outputs": [],
   "source": [
    "obsid = \"3_HR-R\"\n",
    "task3 = run_reduce(dm, obsid)"
   ]
  },
  {
   "cell_type": "code",
   "execution_count": null,
   "metadata": {},
   "outputs": [],
   "source": [
    "obsid = \"4_HR-R\"\n",
    "task4 = run_reduce(dm, obsid)"
   ]
  },
  {
   "cell_type": "code",
   "execution_count": null,
   "metadata": {},
   "outputs": [],
   "source": [
    "obsid = \"5_HR-R\"\n",
    "task5 = run_reduce(dm, obsid)"
   ]
  },
  {
   "cell_type": "code",
   "execution_count": null,
   "metadata": {},
   "outputs": [],
   "source": [
    "obsid = \"6_HR-R\"\n",
    "task6 = run_reduce(dm, obsid)"
   ]
  },
  {
   "cell_type": "code",
   "execution_count": null,
   "metadata": {},
   "outputs": [],
   "source": [
    "obsid = \"7_HR-R\"\n",
    "task7 = run_reduce(dm, obsid)"
   ]
  },
  {
   "cell_type": "code",
   "execution_count": null,
   "metadata": {},
   "outputs": [],
   "source": [
    "obsid = \"8_HR-R\"\n",
    "task8 = run_reduce(dm, obsid)"
   ]
  },
  {
   "cell_type": "code",
   "execution_count": null,
   "metadata": {},
   "outputs": [],
   "source": [
    "import yaml\n",
    "with open('control_dump.yaml', 'w') as fd:\n",
    "    datam = dm.backend.dump_data()\n",
    "    yaml.dump(datam, fd)"
   ]
  },
  {
   "cell_type": "code",
   "execution_count": null,
   "metadata": {},
   "outputs": [],
   "source": [
    "rss = task8.result.reduced_rss.open()"
   ]
  },
  {
   "cell_type": "code",
   "execution_count": null,
   "metadata": {},
   "outputs": [],
   "source": [
    "plt.imshow(rss[0].data)"
   ]
  },
  {
   "cell_type": "code",
   "execution_count": null,
   "metadata": {},
   "outputs": [],
   "source": [
    "\n",
    "from astropy.wcs import WCS\n",
    "import numpy as np"
   ]
  },
  {
   "cell_type": "code",
   "execution_count": null,
   "metadata": {},
   "outputs": [],
   "source": [
    "projection = WCS(rss['FIBERS'].header)"
   ]
  },
  {
   "cell_type": "code",
   "execution_count": null,
   "metadata": {},
   "outputs": [],
   "source": [
    "def hexplot_helper(ax, img):\n",
    "    import megaradrp.visualization as vis\n",
    "    import megaradrp.datamodel as dm\n",
    "    # This should be simplified\n",
    "    rssdata = np.squeeze(img[0].data[:,2000])\n",
    "    datamodel = dm.MegaraDataModel()\n",
    "    fiberconf = datamodel.get_fiberconf(rss)\n",
    "    x = np.empty((fiberconf.nfibers,))\n",
    "    y = np.empty((fiberconf.nfibers,))\n",
    "    # Key is fibid\n",
    "    for _, fiber in sorted(fiberconf.fibers.items()):\n",
    "        idx = fiber.fibid - 1\n",
    "        x[idx] = fiber.x\n",
    "        y[idx] = fiber.y\n",
    "    scale = 0.443\n",
    "    col = vis.hexplot(ax, x,y, rssdata, scale=scale)\n",
    "    return col\n",
    "    "
   ]
  },
  {
   "cell_type": "code",
   "execution_count": null,
   "metadata": {},
   "outputs": [],
   "source": [
    "fig = plt.figure()\n",
    "ax = fig.add_axes([0.15, 0.1, 0.8, 0.8], projection=projection)\n",
    "\n",
    "ax.coords.grid()\n",
    "ax.set_xlim([-6.5, 6.5])\n",
    "ax.set_ylim([-6, 6])\n",
    "col = hexplot_helper(ax, rss)"
   ]
  },
  {
   "cell_type": "code",
   "execution_count": null,
   "metadata": {},
   "outputs": [],
   "source": []
  }
 ],
 "metadata": {
  "kernelspec": {
   "display_name": "Python 3 (ipykernel)",
   "language": "python",
   "name": "python3"
  },
  "language_info": {
   "codemirror_mode": {
    "name": "ipython",
    "version": 3
   },
   "file_extension": ".py",
   "mimetype": "text/x-python",
   "name": "python",
   "nbconvert_exporter": "python",
   "pygments_lexer": "ipython3",
   "version": "3.11.13"
  }
 },
 "nbformat": 4,
 "nbformat_minor": 4
}
